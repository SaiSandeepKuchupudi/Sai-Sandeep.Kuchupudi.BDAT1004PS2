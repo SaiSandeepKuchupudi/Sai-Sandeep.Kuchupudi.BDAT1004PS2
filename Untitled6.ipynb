{
 "cells": [
  {
   "cell_type": "markdown",
   "metadata": {},
   "source": [
    "### Question1\n",
    "Consider the following Python module:\n",
    "a = 0\n",
    "def b():\n",
    " global a\n",
    " a = c(a)\n",
    "def c(a):\n",
    " return a + 2\n",
    "After importing the module into the interpreter, you execute:\n",
    "/>>> b()\n",
    "/>>> b()\n",
    "/>>> b()\n",
    "/>>> a\n",
    "?\n",
    "What value is displayed when the last expression (a) is evaluated? Explain your\n",
    "answer by indicating what happens in every executed statement."
   ]
  },
  {
   "cell_type": "code",
   "execution_count": null,
   "metadata": {},
   "outputs": [],
   "source": []
  },
  {
   "cell_type": "markdown",
   "metadata": {},
   "source": [
    "### Question 2\n",
    "Function fileLength(), given to you, takes the name of a file as input and returns\n",
    "the length of the file:\n",
    "/>>> fileLength('midterm.py')\n",
    "284\n",
    "/>>> fileLength('idterm.py')\n",
    "Traceback (most recent call last):\n",
    "File \"<pyshell#34>\", line 1, in <module>\n",
    " fileLength('idterm.py')\n",
    "File \"/Users/me/midterm.py\", line 3, in fileLength\n",
    " infile = open(filename)\n",
    "FileNotFoundError: [Errno 2] No such file or directory:\n",
    "'idterm.py'\n",
    "As shown above, if the file cannot be found by the interpreter or if it cannot be read\n",
    "as a text file, an exception will be raised. Modify function fileLength() so that a\n",
    "friendly message is printed instead:\n",
    ">>> fileLength('midterm.py')\n",
    "358\n",
    ">>> fileLength('idterm.py')\n",
    "File idterm.py not found."
   ]
  },
  {
   "cell_type": "code",
   "execution_count": 1,
   "metadata": {},
   "outputs": [],
   "source": [
    "def fileLength(name):\n",
    "  try:\n",
    "     with open(name,\"r\") as  f:\n",
    "       data=f.read()\n",
    "       length=len(data)\n",
    "       return length\n",
    "\n",
    "     \n",
    "  except:\n",
    "    print(\"An exception occured in reading the {}\".format(name))"
   ]
  },
  {
   "cell_type": "code",
   "execution_count": 2,
   "metadata": {},
   "outputs": [
    {
     "name": "stdout",
     "output_type": "stream",
     "text": [
      "An exception occured in reading the abc.txt\n"
     ]
    }
   ],
   "source": [
    "fileLength(\"abc.txt\")"
   ]
  },
  {
   "cell_type": "markdown",
   "metadata": {},
   "source": [
    "### Question3\n",
    "Write a class named Marsupial that can be used as shown below:\n",
    "/>>> m = Marsupial()\n",
    "/>>> m.put_in_pouch('doll')\n",
    "/>>> m.put_in_pouch('firetruck')\n",
    "/>>> m.put_in_pouch('kitten')\n",
    "/>>> m.pouch_contents()\n",
    "['doll', 'firetruck', 'kitten']\n",
    "Now write a class named Kangaroo as a subclass of Marsupial that inherits all the\n",
    "attributes of Marsupial and also:\n",
    "a. extends the Marsupial __init__ constructor to take, as input, the\n",
    "coordinates x and y of the Kangaroo object,\n",
    "b. supports method jump that takes number values dx and dy as input and\n",
    "moves the kangaroo by dx units along the x-axis and by dy units along the yaxis, and\n",
    "c. overloads the __str__ operator so it behaves as shown below.\n",
    "/>>> k = Kangaroo(0,0)\n",
    "/>>> print(k)\n",
    "I am a Kangaroo located at coordinates (0,0)\n",
    "/>>> k.put_in_pouch('doll')\n",
    "/>>> k.put_in_pouch('firetruck')\n",
    "/>>> k.put_in_pouch('kitten')\n",
    "/>>> k.pouch_contents()\n",
    "['doll', 'firetruck', 'kitten']\n",
    "/>>> k.jump(1,0)\n",
    "/>>> k.jump(1,0)\n",
    "/>>> k.jump(1,0)\n",
    "/>>> print(k)\n",
    "I am a Kangaroo located at coordinates (3,0)"
   ]
  },
  {
   "cell_type": "code",
   "execution_count": null,
   "metadata": {},
   "outputs": [],
   "source": []
  },
  {
   "cell_type": "markdown",
   "metadata": {},
   "source": [
    "### Question5\n",
    "def collatz(x):\n",
    "  print (x)\n",
    "  \n",
    "\n",
    "\n",
    "  if x==1:\n",
    "    return;\n",
    "  elif x%2==0:\n",
    "    x=x/2\n",
    "    # print (x)\n",
    "    collatz(x)\n",
    "  else :\n",
    "    x=3*x + 1\n",
    "    # print (x)\n",
    "    collatz(x)\n"
   ]
  },
  {
   "cell_type": "code",
   "execution_count": 11,
   "metadata": {},
   "outputs": [],
   "source": [
    "def collatz(x):\n",
    "  print (x)\n",
    "  \n",
    "\n",
    "\n",
    "  if x==1:\n",
    "    return;\n",
    "  elif x%2==0:\n",
    "    x=x/2\n",
    "    # print (x)\n",
    "    collatz(x)\n",
    "  else :\n",
    "    x=3*x + 1\n",
    "    # print (x)\n",
    "    collatz(x)\n",
    "        "
   ]
  },
  {
   "cell_type": "code",
   "execution_count": 12,
   "metadata": {},
   "outputs": [
    {
     "name": "stdout",
     "output_type": "stream",
     "text": [
      "10\n",
      "5.0\n",
      "16.0\n",
      "8.0\n",
      "4.0\n",
      "2.0\n",
      "1.0\n"
     ]
    }
   ],
   "source": [
    "collatz(10)"
   ]
  },
  {
   "cell_type": "markdown",
   "metadata": {},
   "source": [
    "### Question6\n",
    "Write a recursive method binary() that takes a non-negative\n",
    "integer n and prints the binary representation of integer n.\n",
    "/>>> binary(0)\n",
    "0\n",
    "/>>> binary(1)\n",
    "1\n",
    "/>>> binary(3)\n",
    "11\n",
    "/>>> binary(9)\n",
    "1001\n"
   ]
  },
  {
   "cell_type": "code",
   "execution_count": 13,
   "metadata": {},
   "outputs": [],
   "source": [
    "def Binary(x):\n",
    "        if x > 1:\n",
    "            Binary(int(x / 2))\n",
    "        print(x % 2,end='')"
   ]
  },
  {
   "cell_type": "code",
   "execution_count": 14,
   "metadata": {},
   "outputs": [
    {
     "name": "stdout",
     "output_type": "stream",
     "text": [
      "101"
     ]
    }
   ],
   "source": [
    "Binary(5)"
   ]
  },
  {
   "cell_type": "code",
   "execution_count": null,
   "metadata": {},
   "outputs": [],
   "source": []
  }
 ],
 "metadata": {
  "kernelspec": {
   "display_name": "Python 3",
   "language": "python",
   "name": "python3"
  },
  "language_info": {
   "codemirror_mode": {
    "name": "ipython",
    "version": 3
   },
   "file_extension": ".py",
   "mimetype": "text/x-python",
   "name": "python",
   "nbconvert_exporter": "python",
   "pygments_lexer": "ipython3",
   "version": "3.7.6"
  }
 },
 "nbformat": 4,
 "nbformat_minor": 4
}
